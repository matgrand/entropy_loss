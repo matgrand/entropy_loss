{
 "cells": [
  {
   "cell_type": "markdown",
   "metadata": {},
   "source": [
    "# Minimum Entropy Loss\n",
    "https://discuss.pytorch.org/t/calculating-the-entropy-loss/14510"
   ]
  },
  {
   "cell_type": "code",
   "execution_count": 50,
   "metadata": {},
   "outputs": [],
   "source": [
    "import torch\n",
    "import torch.nn as nn\n",
    "import torch.nn.functional as F\n",
    "from torch.autograd import Variable\n",
    "import numpy as np\n",
    "import matplotlib.pyplot as plt; plt.style.use('dark_background')\n",
    "π = np.pi\n",
    "from numpy.random import uniform as uni\n",
    "from tqdm import tqdm"
   ]
  },
  {
   "cell_type": "code",
   "execution_count": 51,
   "metadata": {},
   "outputs": [
    {
     "data": {
      "image/png": "[encoded data removed]",
      "text/plain": [
       "<Figure size 1000x200 with 1 Axes>"
      ]
     },
     "metadata": {},
     "output_type": "display_data"
    }
   ],
   "source": [
    "# generate a random signal as a sum of random frequencies\n",
    "N_FREQS = 5\n",
    "N_SAMPLES = 50\n",
    "\n",
    "# generate random frequencies\n",
    "fs = uni(0, N_SAMPLES/20, N_FREQS)\n",
    "As = uni(0, 1, N_FREQS)\n",
    "φs = uni(0, 2*π, N_FREQS)\n",
    "t = np.arange(N_SAMPLES)\n",
    "\n",
    "# generate the signal\n",
    "x = np.sum([As[i]*np.sin(2*π*fs[i]*t+φs[i]) for i in range(N_FREQS)], axis=0)\n",
    "# x = uni(-uni(.2, 1.2), +uni(.2, 1.2), N_SAMPLES)\n",
    "\n",
    "#plot the signal\n",
    "plt.figure(figsize=(10, 2))\n",
    "plt.scatter(t,x, s=1)\n",
    "plt.title('Signal')\n",
    "plt.show()"
   ]
  },
  {
   "cell_type": "code",
   "execution_count": 52,
   "metadata": {},
   "outputs": [
    {
     "name": "stdout",
     "output_type": "stream",
     "text": [
      "levels: [-2.1  -1.95 -1.8  -1.65 -1.5  -1.35 -1.2  -1.05 -0.9  -0.75 -0.6  -0.45\n",
      " -0.3  -0.15  0.    0.15  0.3   0.45  0.6   0.75  0.9   1.05  1.2   1.35\n",
      "  1.5   1.65  1.8   1.95  2.1 ]\n",
      "number of levels: 27\n",
      "levels: [-1.8 -1.5 -1.2 -0.9 -0.6 -0.3 -0.   0.3  0.6  0.9  1.2  1.5  1.8]\n",
      "number of levels: 13\n"
     ]
    },
    {
     "data": {
      "image/png": "[encoded data removed]",
      "text/plain": [
       "<Figure size 1000x200 with 1 Axes>"
      ]
     },
     "metadata": {},
     "output_type": "display_data"
    }
   ],
   "source": [
    "# quantize the signal\n",
    "EPSI = 0.15\n",
    "\n",
    "nlevels = 1+np.ceil(np.max(np.abs(x))/EPSI)\n",
    "levels = EPSI*np.arange(-nlevels, nlevels+1)\n",
    "nlevels = int(1+2*np.ceil(np.max(np.abs(x))/EPSI))\n",
    "print(f'levels: {levels}')\n",
    "print(f'number of levels: {nlevels}')\n",
    "\n",
    "# def quantize(x, ε): return ε*np.round(x/ε) \n",
    "def quantize(x, ε): return 2*ε*np.round(x/(2*ε)) \n",
    "\n",
    "xq = quantize(x, EPSI)\n",
    "\n",
    "print(f'levels: {np.unique(xq)}')\n",
    "print(f'number of levels: {np.unique(xq).shape[0]}')\n",
    "\n",
    "# plot the quantized signal\n",
    "plt.figure(figsize=(10, 2))\n",
    "# plt.plot(t,x, label='original')\n",
    "plt.scatter(t,xq, label='quantized', s=1)\n",
    "plt.title('Quantized Signal')\n",
    "plt.show()"
   ]
  },
  {
   "cell_type": "code",
   "execution_count": 53,
   "metadata": {},
   "outputs": [
    {
     "name": "stdout",
     "output_type": "stream",
     "text": [
      "Entropy of the quantized signal: 2.42\n"
     ]
    }
   ],
   "source": [
    "# measure entropy of the signal\n",
    "def entropy(x):\n",
    "    _, counts = np.unique(x, return_counts=True)\n",
    "    p = counts/len(x)\n",
    "    # return -np.sum(p*np.log2(p))\n",
    "    return -np.sum(p*np.log(p))\n",
    "\n",
    "print(f'Entropy of the quantized signal: {entropy(xq):.2f}')"
   ]
  },
  {
   "cell_type": "code",
   "execution_count": 54,
   "metadata": {},
   "outputs": [],
   "source": [
    "class HLoss(nn.Module):\n",
    "    def __init__(self):\n",
    "        super(HLoss, self).__init__()\n",
    "\n",
    "    def forward(self, x):\n",
    "        assert x.size(-1) == nlevels, f'x.size: {x.size()}'\n",
    "        b = F.softmax(x, dim=-1) * F.log_softmax(x, dim=-1)\n",
    "        b = -1.0 * b.sum()\n",
    "        return b"
   ]
  },
  {
   "cell_type": "code",
   "execution_count": 55,
   "metadata": {},
   "outputs": [
    {
     "data": {
      "image/png": "[encoded data removed]",
      "text/plain": [
       "<Figure size 1000x200 with 1 Axes>"
      ]
     },
     "metadata": {},
     "output_type": "display_data"
    }
   ],
   "source": [
    "# convert the signal to a tensor\n",
    "xqt = torch.tensor(xq/EPSI + nlevels//2, dtype=torch.int64)\n",
    "# #convert to a vector of 1-hot encoded values\n",
    "xq_1hot = F.one_hot(xqt, num_classes=nlevels)\n",
    "# plot the 2dmatrix \n",
    "plt.figure(figsize=(10, 2))\n",
    "plt.imshow(xq_1hot.T, aspect='auto', interpolation='none', origin='lower')\n",
    "plt.title('Quantized Signal')\n",
    "plt.show()"
   ]
  },
  {
   "cell_type": "code",
   "execution_count": 56,
   "metadata": {},
   "outputs": [
    {
     "name": "stdout",
     "output_type": "stream",
     "text": [
      "Entropy of the quantized signal: 3.26\n"
     ]
    }
   ],
   "source": [
    "# calculate entropy\n",
    "hloss = HLoss()\n",
    "h = hloss(xq_1hot.to(torch.float32).unsqueeze(0))/N_SAMPLES\n",
    "print(f'Entropy of the quantized signal: {h:.2f}')"
   ]
  },
  {
   "cell_type": "markdown",
   "metadata": {},
   "source": [
    "# ENTROPY IS NOT DIFFERENTIABLE\n",
    "## But apparently these mutherfuckers found a way to do it\n",
    "$$\n",
    " \\frac{\\partial{H}}{\\partial{r_i}} = \\lim_{b \\to \\infty} \\sum_{j=0}^{|S|} [1 + \\ln p(s_j)] * R(r_i - s_j)\n",
    "$$\n",
    "\n",
    "with $R$:\n",
    "\n",
    "$$\n",
    "R(r_i - s_j) = \\frac{b}{|r|\\varepsilon^b} \\frac{(r_i - s_j)^{b-1}}{\\left[\\frac{(r_i -\n",
    "s_j)^b}{\\varepsilon^b} + 1\\right]^2} $$\n",
    "\n",
    "Master thesis version:\n",
    "\n",
    "$$ \n",
    "R = \\frac{b}{\\left( \\text{size}(rq) \\cdot \\varepsilon^b \\right)} \\cdot \\frac{(rq - s_j)^{b-1}}{\\left( \\frac{(rq - s_j)^b}{\\varepsilon^b} + 1 \\right)^2}\n",
    "$$"
   ]
  },
  {
   "cell_type": "code",
   "execution_count": 57,
   "metadata": {},
   "outputs": [
    {
     "name": "stdout",
     "output_type": "stream",
     "text": [
      "Entropy of the quantized signal: 2.42\n",
      "Differential Entropy of the quantized signal: [ 4.504e-04  1.442e-03  5.067e-07 -1.452e-04  1.454e-04  1.442e-03\n",
      "  3.320e-04 -1.452e-04  3.320e-04  1.442e-03  1.454e-04  1.454e-04\n",
      "  1.454e-04  4.505e-04 -7.828e-04  3.320e-04  4.504e-04 -9.011e-04\n",
      "  1.867e-04  7.134e-04 -1.452e-04 -1.452e-04  9.326e-07  7.134e-04\n",
      " -1.452e-04  4.504e-04  1.442e-03  5.067e-07  4.504e-04  4.504e-04\n",
      "  9.326e-07  3.320e-04  1.454e-04 -1.452e-04  4.505e-04 -1.452e-04\n",
      "  5.067e-07 -1.452e-04 -9.011e-04 -9.011e-04  7.134e-04 -7.828e-04\n",
      " -7.828e-04  4.505e-04 -9.920e-04 -7.828e-04 -1.452e-04  4.505e-04\n",
      "  7.134e-04 -1.452e-04]\n"
     ]
    }
   ],
   "source": [
    "# see what this fucking function actually looks like\n",
    "# def dentropy(r, b=10, ε=0.1):\n",
    "#     symbols, counts = np.unique(r, return_counts=True)\n",
    "#     p = counts/len(r)\n",
    "#     log2p = np.log2(p)\n",
    "#     H = -np.sum(p*log2p) # entropy\n",
    "#     sizer = len(r)\n",
    "#     print(f'sizer: {sizer}')\n",
    "\n",
    "#     DH = np.zeros_like(r)\n",
    "#     for i in range(len(r)):\n",
    "#         dhi = 0\n",
    "#         for j in range(len(symbols)):\n",
    "#             a1 = (1 + log2p[j] + 1e-8)\n",
    "#             print(f'1: {a1}')\n",
    "#             a2 = b / (sizer * ε**b)\n",
    "#             print(f'2: {a2}')\n",
    "#             a3 = ( r[i] - symbols[j] )**(b-1) \n",
    "#             print(f'3: {a3}')\n",
    "#             a4 = (((r[i]-symbols[j])/ε)**b + 1)**2\n",
    "#             print(f'4: {a4}')\n",
    "#             dhi += a1 * a2 * a3\n",
    "#             print(f'comb: {a1*a2*a3/a4}\\n')\n",
    "#         DH[i] = dhi\n",
    "#     return H, DH\n",
    "\n",
    "def dentropy(rq, b=10.0, ε=0.1):\n",
    "    # print(f'rq: {rq}')\n",
    "    symbols, counts = np.unique(rq, return_counts=True)\n",
    "\n",
    "    # sort the unique values\n",
    "    order = np.argsort(symbols)\n",
    "    symbols = symbols[order]\n",
    "    counts = counts[order]\n",
    "\n",
    "    p = counts/len(rq)\n",
    "    # logp = np.log2(p + 1e-8)\n",
    "    logp = np.log(p + 1e-8)\n",
    "    H = -np.sum(p*logp) # entropy\n",
    "    sizer = len(rq)\n",
    "\n",
    "    DH = 0\n",
    "    for j in range(len(symbols)):\n",
    "        DH += (1+logp[j])*b / (sizer*ε**b) * (rq-symbols[j])**(b-1) / (((rq-symbols[j])/ε)**b+1)**2\n",
    "    return H, DH\n",
    "\n",
    "H, DH = dentropy(xq, b=10, ε=EPSI)\n",
    "\n",
    "print(f'Entropy of the quantized signal: {H:.2f}')\n",
    "print(f'Differential Entropy of the quantized signal: {DH}')\n",
    "        \n",
    "\n",
    "\n",
    "\n"
   ]
  },
  {
   "cell_type": "code",
   "execution_count": null,
   "metadata": {},
   "outputs": [
    {
     "name": "stdout",
     "output_type": "stream",
     "text": [
      "gradient_approx: [ 4.504e-04  1.442e-03  5.089e-07 -1.452e-04  1.454e-04  1.442e-03\n",
      "  3.320e-04 -1.452e-04  3.320e-04  1.442e-03  1.454e-04  1.454e-04\n",
      "  1.454e-04  4.505e-04 -7.828e-04  3.320e-04  4.504e-04 -9.011e-04\n",
      "  1.867e-04  7.134e-04 -1.452e-04 -1.452e-04  9.369e-07  7.134e-04\n",
      " -1.452e-04  4.504e-04  1.442e-03  5.089e-07  4.504e-04  4.504e-04\n",
      "  9.369e-07  3.320e-04  1.454e-04 -1.452e-04  4.505e-04 -1.452e-04\n",
      "  5.089e-07 -1.452e-04 -9.011e-04 -9.011e-04  7.134e-04 -7.828e-04\n",
      " -7.828e-04  4.505e-04 -9.920e-04 -7.828e-04 -1.452e-04  4.505e-04\n",
      "  7.134e-04 -1.452e-04]\n",
      "Entropy of the quantized signal: 2.42\n"
     ]
    }
   ],
   "source": [
    "# master thesis version in tensorflow\n",
    "import tensorflow as tf\n",
    "np.set_printoptions(precision=3)\n",
    "\n",
    "\n",
    "\n",
    "def quantized_entropy_loss(epsilon,b=10.0):\n",
    "  \n",
    "  @tf.custom_gradient\n",
    "  def loss_func(r):\n",
    "    \n",
    "    #Quantization\n",
    "    rq = tf.cast((2*epsilon) * tf.math.round(r/(2*epsilon)), dtype=tf.float64) #epsilon is the quantization step\n",
    "\n",
    "\n",
    "    # Calculate entropy\n",
    "    unique_rq, _, count_rq = tf.unique_with_counts(tf.reshape(rq, [-1]))\n",
    "\n",
    "    # sort the unique values\n",
    "    unique_rq, count_rq = zip(*sorted(zip(unique_rq, count_rq)))\n",
    "    order = np.argsort(unique_rq)\n",
    "    unique_rq = np.array(unique_rq)[order]\n",
    "    count_rq = np.array(count_rq)[order]\n",
    "\n",
    "    # print(f'unique_rq: {unique_rq}')\n",
    "    # print(f'count_rq: {count_rq}')\n",
    "\n",
    "    p_rq = count_rq / tf.reduce_sum(count_rq) #probability of each unique residual\n",
    "    QEL = tf.cast( -tf.reduce_sum(p_rq * tf.math.log(p_rq + 1e-8)), dtype=tf.float32)\n",
    "\n",
    "    #Gradient approximation\n",
    "    def R(rq, sj, b=b, epsilon=epsilon):\n",
    "      return (b / (tf.cast(tf.size(rq), dtype=tf.float64) * epsilon**b)) * ((rq - sj)**(b-1)) / (((rq - sj)**b / epsilon**b) + 1)**2\n",
    "    def grad(upstream):\n",
    "      gradient_approx = 0.0 #dH/dr\n",
    "      for sj,pj in zip(unique_rq, p_rq):\n",
    "        # a1 = (1 + tf.math.log(pj + 1e-8))\n",
    "        # print(f'a1: {a1}')\n",
    "        gradient_approx += (1 + tf.math.log(pj + 1e-8)) * R(rq,sj)\n",
    "      print(f'gradient_approx: {gradient_approx}')\n",
    "      return upstream * tf.cast(gradient_approx, dtype=tf.float32)\n",
    "    \n",
    "    return QEL, grad\n",
    "\n",
    "  return loss_func\n",
    "\n",
    "# test the function on x\n",
    "xtf = tf.constant(x, dtype=tf.float32)\n",
    "# qel = quantized_entropy_loss(EPSI, b=10)(xtf)\n",
    "\n",
    "# calculate the gradient\n",
    "with tf.GradientTape() as tape:\n",
    "    tape.watch(xtf)\n",
    "    qel = quantized_entropy_loss(EPSI, b=10)(xtf)\n",
    "dqel_dx = tape.gradient(qel, xtf)\n",
    "\n",
    "\n",
    "print(f'Entropy of the quantized signal: {qel:.2f}')\n"
   ]
  },
  {
   "cell_type": "markdown",
   "metadata": {},
   "source": [
    "## Let's see if there is correlation between the softmax differentiable function and the real entropy"
   ]
  },
  {
   "cell_type": "code",
   "execution_count": 59,
   "metadata": {},
   "outputs": [
    {
     "name": "stderr",
     "output_type": "stream",
     "text": [
      "100%|██████████| 2000/2000 [00:07<00:00, 284.84it/s]\n"
     ]
    },
    {
     "name": "stdout",
     "output_type": "stream",
     "text": [
      "best fit: y = 1.00x + 0.00\n"
     ]
    },
    {
     "data": {
      "image/png": "[encoded data removed]",
      "text/plain": [
       "<Figure size 1000x500 with 1 Axes>"
      ]
     },
     "metadata": {},
     "output_type": "display_data"
    }
   ],
   "source": [
    "# test on a lot of tries\n",
    "H1s, H2s = [], []\n",
    "for _ in tqdm(range(2000)):\n",
    "    # generate random frequencies\n",
    "    fs = uni(0, N_SAMPLES/20, N_FREQS)\n",
    "    As = uni(0, 1, N_FREQS)\n",
    "    φs = uni(0, 2*π, N_FREQS)\n",
    "    t = np.arange(N_SAMPLES)\n",
    "\n",
    "    # generate the signal\n",
    "    x = np.sum([As[i]*np.sin(2*π*fs[i]*t+φs[i]) for i in range(N_FREQS)], axis=0)\n",
    "\n",
    "    # quantize the signal\n",
    "    xq = quantize(x, EPSI)\n",
    "\n",
    "    nlevels = int(1+2*np.ceil(np.max(np.abs(x))/EPSI))\n",
    "\n",
    "    # measure entropy of the signal\n",
    "    H1s.append(entropy(xq)) \n",
    "\n",
    "    # # H2\n",
    "    # # convert the signal to a tensor\n",
    "    # xqt = torch.tensor(xq/EPSI + nlevels//2, dtype=torch.int64)\n",
    "    # #convert to a vector of 1-hot encoded values\n",
    "    # xq_1hot = F.one_hot(xqt, num_classes=nlevels)\n",
    "    # # calculate entropy 2 \n",
    "    # h = hloss(xq_1hot.to(torch.float32).unsqueeze(0))/N_SAMPLES\n",
    "\n",
    "    # tensorflow version\n",
    "    xtf = tf.constant(x, dtype=tf.float32)\n",
    "    h = quantized_entropy_loss(EPSI, b=10)(xtf)\n",
    "    \n",
    "    H2s.append(h)\n",
    "\n",
    "H1s, H2s = np.array(H1s), np.array(H2s)\n",
    "\n",
    "# get the best linear fit between H1s and H2s\n",
    "A = np.vstack([H1s, np.ones(len(H1s))]).T\n",
    "m, c = np.linalg.lstsq(A, H2s, rcond=None)[0]\n",
    "print(f'best fit: y = {m:.2f}x + {c:.2f}')\n",
    "\n",
    "plt.figure(figsize=(10, 5))\n",
    "plt.scatter(H1s, H2s, s=5)\n",
    "plt.plot(H1s, m*H1s + c, color='red')\n",
    "plt.xlabel('Entropy 1')\n",
    "plt.ylabel('Entropy 2')\n",
    "plt.show()\n"
   ]
  },
  {
   "cell_type": "code",
   "execution_count": 60,
   "metadata": {},
   "outputs": [],
   "source": [
    "# criterion = HLoss()\n",
    "# x = Variable(torch.randn(10, 10))\n",
    "# w = Variable(torch.randn(10, 3), requires_grad=True)\n",
    "# output = torch.matmul(x, w)\n",
    "# loss = criterion(output)\n",
    "# loss.backward()\n",
    "# print(w.grad)"
   ]
  }
 ],
 "metadata": {
  "kernelspec": {
   "display_name": "ml",
   "language": "python",
   "name": "python3"
  },
  "language_info": {
   "codemirror_mode": {
    "name": "ipython",
    "version": 3
   },
   "file_extension": ".py",
   "mimetype": "text/x-python",
   "name": "python",
   "nbconvert_exporter": "python",
   "pygments_lexer": "ipython3",
   "version": "3.12.9"
  }
 },
 "nbformat": 4,
 "nbformat_minor": 2
}
